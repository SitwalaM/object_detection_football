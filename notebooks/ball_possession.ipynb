{
  "nbformat": 4,
  "nbformat_minor": 0,
  "metadata": {
    "colab": {
      "name": "ball_possession.ipynb",
      "provenance": [],
      "collapsed_sections": []
    },
    "kernelspec": {
      "name": "python3",
      "display_name": "Python 3"
    },
    "language_info": {
      "name": "python"
    },
    "accelerator": "GPU",
    "widgets": {
      "application/vnd.jupyter.widget-state+json": {
        "5bdd67a7c3bb4e5fb97e6b16920bf908": {
          "model_module": "@jupyter-widgets/controls",
          "model_name": "HBoxModel",
          "model_module_version": "1.5.0",
          "state": {
            "_view_name": "HBoxView",
            "_dom_classes": [],
            "_model_name": "HBoxModel",
            "_view_module": "@jupyter-widgets/controls",
            "_model_module_version": "1.5.0",
            "_view_count": null,
            "_view_module_version": "1.5.0",
            "box_style": "",
            "layout": "IPY_MODEL_f6e7d55749ac4d26b6bcb2d1e85d14e9",
            "_model_module": "@jupyter-widgets/controls",
            "children": [
              "IPY_MODEL_d74eaac1739645c08d9c26d0cae3e551",
              "IPY_MODEL_25b50bc0a07345239a9201fbd367e321",
              "IPY_MODEL_30d66c8730494316a63e196292a26496"
            ]
          }
        },
        "f6e7d55749ac4d26b6bcb2d1e85d14e9": {
          "model_module": "@jupyter-widgets/base",
          "model_name": "LayoutModel",
          "model_module_version": "1.2.0",
          "state": {
            "_view_name": "LayoutView",
            "grid_template_rows": null,
            "right": null,
            "justify_content": null,
            "_view_module": "@jupyter-widgets/base",
            "overflow": null,
            "_model_module_version": "1.2.0",
            "_view_count": null,
            "flex_flow": null,
            "width": null,
            "min_width": null,
            "border": null,
            "align_items": null,
            "bottom": null,
            "_model_module": "@jupyter-widgets/base",
            "top": null,
            "grid_column": null,
            "overflow_y": null,
            "overflow_x": null,
            "grid_auto_flow": null,
            "grid_area": null,
            "grid_template_columns": null,
            "flex": null,
            "_model_name": "LayoutModel",
            "justify_items": null,
            "grid_row": null,
            "max_height": null,
            "align_content": null,
            "visibility": null,
            "align_self": null,
            "height": null,
            "min_height": null,
            "padding": null,
            "grid_auto_rows": null,
            "grid_gap": null,
            "max_width": null,
            "order": null,
            "_view_module_version": "1.2.0",
            "grid_template_areas": null,
            "object_position": null,
            "object_fit": null,
            "grid_auto_columns": null,
            "margin": null,
            "display": null,
            "left": null
          }
        },
        "d74eaac1739645c08d9c26d0cae3e551": {
          "model_module": "@jupyter-widgets/controls",
          "model_name": "HTMLModel",
          "model_module_version": "1.5.0",
          "state": {
            "_view_name": "HTMLView",
            "style": "IPY_MODEL_9a49175694a14e3e856f2b5e759b5f27",
            "_dom_classes": [],
            "description": "",
            "_model_name": "HTMLModel",
            "placeholder": "​",
            "_view_module": "@jupyter-widgets/controls",
            "_model_module_version": "1.5.0",
            "value": "100%",
            "_view_count": null,
            "_view_module_version": "1.5.0",
            "description_tooltip": null,
            "_model_module": "@jupyter-widgets/controls",
            "layout": "IPY_MODEL_2121b84db3b3450f8c24ad6b839f81d4"
          }
        },
        "25b50bc0a07345239a9201fbd367e321": {
          "model_module": "@jupyter-widgets/controls",
          "model_name": "FloatProgressModel",
          "model_module_version": "1.5.0",
          "state": {
            "_view_name": "ProgressView",
            "style": "IPY_MODEL_b1a8346104ab4d389983a9eb9730054c",
            "_dom_classes": [],
            "description": "",
            "_model_name": "FloatProgressModel",
            "bar_style": "success",
            "max": 14698491,
            "_view_module": "@jupyter-widgets/controls",
            "_model_module_version": "1.5.0",
            "value": 14698491,
            "_view_count": null,
            "_view_module_version": "1.5.0",
            "orientation": "horizontal",
            "min": 0,
            "description_tooltip": null,
            "_model_module": "@jupyter-widgets/controls",
            "layout": "IPY_MODEL_1d5f1a2789f848eb9ef763d3ce42e8ce"
          }
        },
        "30d66c8730494316a63e196292a26496": {
          "model_module": "@jupyter-widgets/controls",
          "model_name": "HTMLModel",
          "model_module_version": "1.5.0",
          "state": {
            "_view_name": "HTMLView",
            "style": "IPY_MODEL_a55b0f6204e74c778a1de2f958a4635c",
            "_dom_classes": [],
            "description": "",
            "_model_name": "HTMLModel",
            "placeholder": "​",
            "_view_module": "@jupyter-widgets/controls",
            "_model_module_version": "1.5.0",
            "value": " 14.0M/14.0M [00:00&lt;00:00, 23.5MB/s]",
            "_view_count": null,
            "_view_module_version": "1.5.0",
            "description_tooltip": null,
            "_model_module": "@jupyter-widgets/controls",
            "layout": "IPY_MODEL_06aff9f193e44fb3a94d9f13bc0a5f93"
          }
        },
        "9a49175694a14e3e856f2b5e759b5f27": {
          "model_module": "@jupyter-widgets/controls",
          "model_name": "DescriptionStyleModel",
          "model_module_version": "1.5.0",
          "state": {
            "_view_name": "StyleView",
            "_model_name": "DescriptionStyleModel",
            "description_width": "",
            "_view_module": "@jupyter-widgets/base",
            "_model_module_version": "1.5.0",
            "_view_count": null,
            "_view_module_version": "1.2.0",
            "_model_module": "@jupyter-widgets/controls"
          }
        },
        "2121b84db3b3450f8c24ad6b839f81d4": {
          "model_module": "@jupyter-widgets/base",
          "model_name": "LayoutModel",
          "model_module_version": "1.2.0",
          "state": {
            "_view_name": "LayoutView",
            "grid_template_rows": null,
            "right": null,
            "justify_content": null,
            "_view_module": "@jupyter-widgets/base",
            "overflow": null,
            "_model_module_version": "1.2.0",
            "_view_count": null,
            "flex_flow": null,
            "width": null,
            "min_width": null,
            "border": null,
            "align_items": null,
            "bottom": null,
            "_model_module": "@jupyter-widgets/base",
            "top": null,
            "grid_column": null,
            "overflow_y": null,
            "overflow_x": null,
            "grid_auto_flow": null,
            "grid_area": null,
            "grid_template_columns": null,
            "flex": null,
            "_model_name": "LayoutModel",
            "justify_items": null,
            "grid_row": null,
            "max_height": null,
            "align_content": null,
            "visibility": null,
            "align_self": null,
            "height": null,
            "min_height": null,
            "padding": null,
            "grid_auto_rows": null,
            "grid_gap": null,
            "max_width": null,
            "order": null,
            "_view_module_version": "1.2.0",
            "grid_template_areas": null,
            "object_position": null,
            "object_fit": null,
            "grid_auto_columns": null,
            "margin": null,
            "display": null,
            "left": null
          }
        },
        "b1a8346104ab4d389983a9eb9730054c": {
          "model_module": "@jupyter-widgets/controls",
          "model_name": "ProgressStyleModel",
          "model_module_version": "1.5.0",
          "state": {
            "_view_name": "StyleView",
            "_model_name": "ProgressStyleModel",
            "description_width": "",
            "_view_module": "@jupyter-widgets/base",
            "_model_module_version": "1.5.0",
            "_view_count": null,
            "_view_module_version": "1.2.0",
            "bar_color": null,
            "_model_module": "@jupyter-widgets/controls"
          }
        },
        "1d5f1a2789f848eb9ef763d3ce42e8ce": {
          "model_module": "@jupyter-widgets/base",
          "model_name": "LayoutModel",
          "model_module_version": "1.2.0",
          "state": {
            "_view_name": "LayoutView",
            "grid_template_rows": null,
            "right": null,
            "justify_content": null,
            "_view_module": "@jupyter-widgets/base",
            "overflow": null,
            "_model_module_version": "1.2.0",
            "_view_count": null,
            "flex_flow": null,
            "width": null,
            "min_width": null,
            "border": null,
            "align_items": null,
            "bottom": null,
            "_model_module": "@jupyter-widgets/base",
            "top": null,
            "grid_column": null,
            "overflow_y": null,
            "overflow_x": null,
            "grid_auto_flow": null,
            "grid_area": null,
            "grid_template_columns": null,
            "flex": null,
            "_model_name": "LayoutModel",
            "justify_items": null,
            "grid_row": null,
            "max_height": null,
            "align_content": null,
            "visibility": null,
            "align_self": null,
            "height": null,
            "min_height": null,
            "padding": null,
            "grid_auto_rows": null,
            "grid_gap": null,
            "max_width": null,
            "order": null,
            "_view_module_version": "1.2.0",
            "grid_template_areas": null,
            "object_position": null,
            "object_fit": null,
            "grid_auto_columns": null,
            "margin": null,
            "display": null,
            "left": null
          }
        },
        "a55b0f6204e74c778a1de2f958a4635c": {
          "model_module": "@jupyter-widgets/controls",
          "model_name": "DescriptionStyleModel",
          "model_module_version": "1.5.0",
          "state": {
            "_view_name": "StyleView",
            "_model_name": "DescriptionStyleModel",
            "description_width": "",
            "_view_module": "@jupyter-widgets/base",
            "_model_module_version": "1.5.0",
            "_view_count": null,
            "_view_module_version": "1.2.0",
            "_model_module": "@jupyter-widgets/controls"
          }
        },
        "06aff9f193e44fb3a94d9f13bc0a5f93": {
          "model_module": "@jupyter-widgets/base",
          "model_name": "LayoutModel",
          "model_module_version": "1.2.0",
          "state": {
            "_view_name": "LayoutView",
            "grid_template_rows": null,
            "right": null,
            "justify_content": null,
            "_view_module": "@jupyter-widgets/base",
            "overflow": null,
            "_model_module_version": "1.2.0",
            "_view_count": null,
            "flex_flow": null,
            "width": null,
            "min_width": null,
            "border": null,
            "align_items": null,
            "bottom": null,
            "_model_module": "@jupyter-widgets/base",
            "top": null,
            "grid_column": null,
            "overflow_y": null,
            "overflow_x": null,
            "grid_auto_flow": null,
            "grid_area": null,
            "grid_template_columns": null,
            "flex": null,
            "_model_name": "LayoutModel",
            "justify_items": null,
            "grid_row": null,
            "max_height": null,
            "align_content": null,
            "visibility": null,
            "align_self": null,
            "height": null,
            "min_height": null,
            "padding": null,
            "grid_auto_rows": null,
            "grid_gap": null,
            "max_width": null,
            "order": null,
            "_view_module_version": "1.2.0",
            "grid_template_areas": null,
            "object_position": null,
            "object_fit": null,
            "grid_auto_columns": null,
            "margin": null,
            "display": null,
            "left": null
          }
        }
      }
    }
  },
  "cells": [
    {
      "cell_type": "code",
      "execution_count": 2,
      "metadata": {
        "id": "BJOr70BQgZqq"
      },
      "outputs": [],
      "source": [
        "%%capture\n",
        "!pip install gradio"
      ]
    },
    {
      "cell_type": "code",
      "source": [
        "%%capture\n",
        "!pip install -r https://raw.githubusercontent.com/ultralytics/yolov5/master/requirements.txt"
      ],
      "metadata": {
        "id": "a8Mxx9xR7HM8"
      },
      "execution_count": 3,
      "outputs": []
    },
    {
      "cell_type": "code",
      "source": [
        "import pandas as pd\n",
        "import gradio as gr\n",
        "import math as m\n",
        "import numpy as np\n",
        "import torch\n",
        "import cv2\n",
        "import matplotlib.pyplot as plt"
      ],
      "metadata": {
        "id": "4yZDr9x5tNfr"
      },
      "execution_count": 4,
      "outputs": []
    },
    {
      "cell_type": "markdown",
      "source": [
        "## Training Parameters\n",
        "\n",
        ">\n",
        "\n"
      ],
      "metadata": {
        "id": "9x98FKknlM4C"
      }
    },
    {
      "cell_type": "code",
      "source": [
        "\n",
        "model = torch.hub.load('ultralytics/yolov5', 'yolov5s', device='cpu')  \n",
        "model.conf = 0.4  # NMS confidence threshold\n",
        "model.iou = 0.45  # NMS IoU threshold\n",
        "model.agnostic = True  # NMS class-agnostic\n",
        "model.multi_label = False  # NMS multiple labels per box\n",
        "model.classes = [0,32]  # (optional list) filter by class, i.e. = [0, 15, 16] for COCO persons, cats and dogs\n",
        "model.max_det = 4  # maximum number of detections per image\n",
        "model.amp = False  # Automatic Mixed Precision (AMP) inference\n"
      ],
      "metadata": {
        "colab": {
          "base_uri": "https://localhost:8080/",
          "height": 310,
          "referenced_widgets": [
            "5bdd67a7c3bb4e5fb97e6b16920bf908",
            "f6e7d55749ac4d26b6bcb2d1e85d14e9",
            "d74eaac1739645c08d9c26d0cae3e551",
            "25b50bc0a07345239a9201fbd367e321",
            "30d66c8730494316a63e196292a26496",
            "9a49175694a14e3e856f2b5e759b5f27",
            "2121b84db3b3450f8c24ad6b839f81d4",
            "b1a8346104ab4d389983a9eb9730054c",
            "1d5f1a2789f848eb9ef763d3ce42e8ce",
            "a55b0f6204e74c778a1de2f958a4635c",
            "06aff9f193e44fb3a94d9f13bc0a5f93"
          ]
        },
        "id": "FcTtRL7vqO6D",
        "outputId": "c563ce50-27eb-4697-db01-9c7d350cae7f"
      },
      "execution_count": 5,
      "outputs": [
        {
          "output_type": "stream",
          "name": "stderr",
          "text": [
            "Downloading: \"https://github.com/ultralytics/yolov5/archive/master.zip\" to /root/.cache/torch/hub/master.zip\n",
            "Downloading https://ultralytics.com/assets/Arial.ttf to /root/.config/Ultralytics/Arial.ttf...\n",
            "\u001b[31m\u001b[1mrequirements:\u001b[0m PyYAML>=5.3.1 not found and is required by YOLOv5, attempting auto-update...\n",
            "Requirement already satisfied: PyYAML>=5.3.1 in /usr/local/lib/python3.7/dist-packages (6.0)\n",
            "\n",
            "\u001b[31m\u001b[1mrequirements:\u001b[0m 1 package updated per /root/.cache/torch/hub/ultralytics_yolov5_master/requirements.txt\n",
            "\u001b[31m\u001b[1mrequirements:\u001b[0m ⚠️ \u001b[1mRestart runtime or rerun command for updates to take effect\u001b[0m\n",
            "\n",
            "YOLOv5 🚀 2022-2-11 torch 1.10.0+cu111 CPU\n",
            "\n"
          ]
        },
        {
          "output_type": "stream",
          "name": "stdout",
          "text": [
            "Downloading https://github.com/ultralytics/yolov5/releases/download/v6.0/yolov5s.pt to yolov5s.pt...\n"
          ]
        },
        {
          "output_type": "display_data",
          "data": {
            "application/vnd.jupyter.widget-view+json": {
              "model_id": "5bdd67a7c3bb4e5fb97e6b16920bf908",
              "version_minor": 0,
              "version_major": 2
            },
            "text/plain": [
              "  0%|          | 0.00/14.0M [00:00<?, ?B/s]"
            ]
          },
          "metadata": {}
        },
        {
          "output_type": "stream",
          "name": "stderr",
          "text": [
            "Fusing layers... \n"
          ]
        },
        {
          "output_type": "stream",
          "name": "stdout",
          "text": [
            "\n"
          ]
        },
        {
          "output_type": "stream",
          "name": "stderr",
          "text": [
            "Model Summary: 213 layers, 7225885 parameters, 0 gradients\n",
            "Adding AutoShape... \n"
          ]
        }
      ]
    },
    {
      "cell_type": "markdown",
      "source": [
        "## Utility fuctions for calcilations"
      ],
      "metadata": {
        "id": "6tCTmpvg5luO"
      }
    },
    {
      "cell_type": "code",
      "source": [
        "def calculate_centres(df):\n",
        "  # gets dataframe and returns it with mid points for bounding boxes\n",
        "\n",
        "  df[\"xcentre\"] = (df.xmin + df.xmin)/2\n",
        "  df[\"ycentre\"] = (df.ymin + df.ymax)/2\n",
        "\n",
        "  return df"
      ],
      "metadata": {
        "id": "Pxg6Q0J8vawt"
      },
      "execution_count": 6,
      "outputs": []
    },
    {
      "cell_type": "code",
      "source": [
        "def calculate_distance(data):\n",
        "  # gets dataframe and returns the distance to the ball for each class\n",
        "\n",
        "  df = data.copy()\n",
        "  xball = df[df[\"class\"]==32].xcentre.values[0]\n",
        "  yball = df[df[\"class\"]==32].ycentre.values[0]\n",
        "\n",
        "  df[\"xball\"] = xball\n",
        "  df[\"yball\"] = yball\n",
        "\n",
        "  df[\"x_d\"] = df.xball - df.xcentre\n",
        "  df[\"y_d\"] = df.yball - df.ycentre\n",
        "\n",
        "  df[\"distance\"] = np.sqrt(df.x_d**2 + df.y_d**2)\n",
        "\n",
        "  return df"
      ],
      "metadata": {
        "id": "sVpEbBicMZnd"
      },
      "execution_count": 7,
      "outputs": []
    },
    {
      "cell_type": "code",
      "source": [
        "def get_second_largest(data):\n",
        "  # gets dataframe and returns nearest player to the ball\n",
        "  \n",
        "  index = data.distance.sort_values().head(2).index[1].copy()\n",
        "  df = data.iloc[index]\n",
        "\n",
        "  return df\n"
      ],
      "metadata": {
        "id": "X5vYym12cc9-"
      },
      "execution_count": 8,
      "outputs": []
    },
    {
      "cell_type": "code",
      "source": [
        "def draw_possession(df,img):\n",
        "  # draws bounding boxes given the datframe output from prediction\n",
        "\n",
        "  # cv2.rectangle(img, pt1, pt2, color, thickness, lineType, shift)\n",
        "  #image = cv2.imread(img)\n",
        "  box = cv2.rectangle(img, (int(df.xmin), int(df.ymin)), (int(df.xmax), int(df.ymax)), (255,0,0), 4)\n",
        "  # displaying image\n",
        "  #plt.imshow(box)\n",
        "  #plt.show()\n",
        "\n",
        "  return box\n"
      ],
      "metadata": {
        "id": "LqcPQd_8hVNV"
      },
      "execution_count": 9,
      "outputs": []
    },
    {
      "cell_type": "code",
      "source": [
        "def predict(image):\n",
        "  # main prediction function that gets image and returns pandas dataframe\n",
        "\n",
        "  results = model(image, size=640)  # custom inference size\n",
        "  return results.pandas().xyxy[0] #change to return both\n",
        "  \n",
        "def processed(image):\n",
        "  \n",
        "  results = predict(image)\n",
        "  results = calculate_centres(results)\n",
        "  processed = calculate_distance(results)\n",
        "  processed = get_second_largest(processed)\n",
        "  box = draw_possession(processed,image)\n",
        "\n",
        "  return box\n",
        "\n",
        "\n"
      ],
      "metadata": {
        "id": "nzds_mczhdK-"
      },
      "execution_count": 10,
      "outputs": []
    },
    {
      "cell_type": "markdown",
      "source": [
        "## Gradio Deployment"
      ],
      "metadata": {
        "id": "H1egGjuz6lo-"
      }
    },
    {
      "cell_type": "code",
      "source": [
        "# launching gradio interface\n",
        "\n",
        "iface = gr.Interface(fn = processed, inputs = \"image\", \n",
        "             outputs = \"image\",\n",
        "             capture_session = True, \n",
        "             title=\"Who Has the Ball?\")\n",
        "             \n",
        "iface.launch(debug = False)"
      ],
      "metadata": {
        "colab": {
          "base_uri": "https://localhost:8080/",
          "height": 713
        },
        "id": "INBL43tHdTv9",
        "outputId": "aece5b15-8179-4032-a606-cb81e5d814c1"
      },
      "execution_count": 12,
      "outputs": [
        {
          "output_type": "stream",
          "name": "stderr",
          "text": [
            "/usr/local/lib/python3.7/dist-packages/gradio/interface.py:224: UserWarning: The `capture_session` parameter in the `Interface` is deprecated and may be removed in the future.\n",
            "  \"The `capture_session` parameter in the `Interface`\"\n"
          ]
        },
        {
          "output_type": "stream",
          "name": "stdout",
          "text": [
            "Colab notebook detected. To show errors in colab notebook, set `debug=True` in `launch()`\n"
          ]
        },
        {
          "output_type": "stream",
          "name": "stderr",
          "text": [
            "Connected (version 2.0, client OpenSSH_7.6p1)\n",
            "Authentication (publickey) successful!\n"
          ]
        },
        {
          "output_type": "stream",
          "name": "stdout",
          "text": [
            "Running on public URL: https://51227.gradio.app\n",
            "\n",
            "This share link expires in 72 hours. For free permanent hosting, check out Spaces (https://huggingface.co/spaces)\n"
          ]
        },
        {
          "output_type": "display_data",
          "data": {
            "text/html": [
              "\n",
              "        <iframe\n",
              "            width=\"900\"\n",
              "            height=\"500\"\n",
              "            src=\"https://51227.gradio.app\"\n",
              "            frameborder=\"0\"\n",
              "            allowfullscreen\n",
              "        ></iframe>\n",
              "        "
            ],
            "text/plain": [
              "<IPython.lib.display.IFrame at 0x7f0251771f10>"
            ]
          },
          "metadata": {}
        },
        {
          "output_type": "execute_result",
          "data": {
            "text/plain": [
              "(<fastapi.applications.FastAPI at 0x7f03d3633310>,\n",
              " 'http://127.0.0.1:7861/',\n",
              " 'https://51227.gradio.app')"
            ]
          },
          "metadata": {},
          "execution_count": 12
        }
      ]
    }
  ]
}